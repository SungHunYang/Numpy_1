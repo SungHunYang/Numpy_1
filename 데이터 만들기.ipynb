{
 "cells": [
  {
   "cell_type": "markdown",
   "id": "4fb04ae1",
   "metadata": {},
   "source": [
    "센서를 사용해서 데이터를 모을 수 있다.  \n",
    "데이터가 가장 빠르게 모이는 곳 => 인터넷에서 데이터를 모으면 더 좋다.(웹)  \n",
    "공개적인 데이터를 노리는 것.  \n",
    "데이터 수집  \n",
    "- 웹 스크레핑 특정 페이지에서 원하는 데이터를 가져오는 것  \n",
    "- 웹 크롤링 프로그램을 짜서 컴퓨터가 자동으로 여러 웹페이지를 수집하게 하는것  \n"
   ]
  }
 ],
 "metadata": {
  "kernelspec": {
   "display_name": "Python 3",
   "language": "python",
   "name": "python3"
  },
  "language_info": {
   "codemirror_mode": {
    "name": "ipython",
    "version": 3
   },
   "file_extension": ".py",
   "mimetype": "text/x-python",
   "name": "python",
   "nbconvert_exporter": "python",
   "pygments_lexer": "ipython3",
   "version": "3.6.8"
  }
 },
 "nbformat": 4,
 "nbformat_minor": 5
}
