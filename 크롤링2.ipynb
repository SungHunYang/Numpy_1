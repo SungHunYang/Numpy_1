{
 "cells": [
  {
   "cell_type": "code",
   "execution_count": null,
   "id": "12731341",
   "metadata": {},
   "outputs": [],
   "source": [
    "import warnings\n",
    "warnings.filterwarnings(action='ignore')\n",
    "import requests\n",
    "from bs4 import BeautifulSoup"
   ]
  },
  {
   "cell_type": "code",
   "execution_count": null,
   "id": "cff44be3",
   "metadata": {
    "scrolled": true
   },
   "outputs": [],
   "source": [
    "# 대화 주제 1~ 75를 크롤링해서 리턴 시키는 함수\n",
    "\n",
    "def getSubject():\n",
    "    targetSite='https://basicenglishspeaking.com/daily-english-conversation-topics/'\n",
    "    request=requests.get(targetSite)\n",
    "    html = request.text\n",
    "    soup=BeautifulSoup(html,'html.parser')\n",
    "    \n",
    "    subject = [] # 파싱한 대화 주제를 저장할 빈 리스트를 만든다.\n",
    "    divs = soup.findAll('div',{'class':'tcb-col'})\n",
    "    \n",
    "    # 이게 divs 라는 걸 찾은 다음에\n",
    "    # 그 divs 안에서 또 'a' 로 시작하는 태그를 다시 찾는 거다.\n",
    "    for div in divs:\n",
    "       # print(len(div))\n",
    "        chapters = div.findAll('a')\n",
    "        #print(len(chapters))\n",
    "        for chapter in chapters:\n",
    "            #print(chapter.text)\n",
    "            subject.append(chapter.text)\n",
    "    \n",
    "    return subject\n",
    "\n",
    "subject = getSubject()\n",
    "subject"
   ]
  },
  {
   "cell_type": "code",
   "execution_count": null,
   "id": "bb2fcd69",
   "metadata": {
    "scrolled": true
   },
   "outputs": [],
   "source": []
  },
  {
   "cell_type": "code",
   "execution_count": null,
   "id": "48a2a467",
   "metadata": {},
   "outputs": [],
   "source": []
  }
 ],
 "metadata": {
  "kernelspec": {
   "display_name": "Python 3",
   "language": "python",
   "name": "python3"
  },
  "language_info": {
   "codemirror_mode": {
    "name": "ipython",
    "version": 3
   },
   "file_extension": ".py",
   "mimetype": "text/x-python",
   "name": "python",
   "nbconvert_exporter": "python",
   "pygments_lexer": "ipython3",
   "version": "3.8.8"
  }
 },
 "nbformat": 4,
 "nbformat_minor": 5
}
